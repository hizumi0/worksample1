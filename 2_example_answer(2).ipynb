#scikit-learnに用意されている標準化を行うためのクラスStandardScaler

サンプルコード

import numpy as np
from sklearn.preprocessing import StandardScaler
from sklearn.datasets import load_iris

data = load_iris()
X = data.data[:10]

scaler = StandardScaler()
scaler.fit(X)
print("平均 :", scaler.mean_)
print("分散 :", scaler.var_)
X_std = scaler.transform(X)


#→標準クラスをスクラッチ化することでクラスや関数について学べるのは良いと思うが、
#もう少し、コメントアウトや最後の課題の四則演算などもサンプルがあるとわかりやすい
