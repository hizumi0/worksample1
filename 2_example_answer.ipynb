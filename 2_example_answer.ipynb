
##算術演算子を使用したプログラム

thickness = 0.00008

folded_thickness = 2**42

print("厚さ： {:.2f}キロメートル".format(folded_thickness/1000))


##for文を活用したプログラム


thickness = 0.00008

folded_thickness(2*2)

for folded_thickness in range(43):
    print(folded_thickness)

#→for文で、計算式の要素を一つずつ取り出す方法がわかりませんでした。
#pow関数を使ったりする例を含めてもいいかもしれません。


##計算時間の比較


import time
start = time.time()
#####
# 

#####
elapsed_time = time.time() - start
print("time : {}[s]".format(elapsed_time))

##空の配列の作成。

l_empty = []
print(l_empty)
# []

print(len(l_empty))
# 0

##折れ線グラフの表示
"""
グラフを表示する。タイトルと軸ラベル名付き。
"""
import matplotlib.pyplot as plt
%matplotlib inline

plt.title("thickness of folded paper")
plt.xlabel("number of folds")
plt.ylabel("thickness[m]")
plt.plot(配列名) # 「配列名」のところにlist型変数を入れる

